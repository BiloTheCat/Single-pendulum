{
 "cells": [
  {
   "cell_type": "code",
   "execution_count": 1,
   "id": "9239ba99",
   "metadata": {},
   "outputs": [],
   "source": [
    "import matplotlib.pyplot as plt\n",
    "import numpy as np\n",
    "import math\n",
    "import scipy\n",
    "import time\n",
    "import matplotlib.animation as animation"
   ]
  },
  {
   "cell_type": "markdown",
   "id": "42a38c3b",
   "metadata": {},
   "source": [
    "Initial parameters of the beads. \n",
    "mass is in units of 1. 1 unit is 1 kg\n",
    "lenght is in units of 1. 1 unit is 1m.\n",
    "angle in radians\n",
    "Timestep is deltaT\n",
    "initial angle velocity phi_1_0"
   ]
  },
  {
   "cell_type": "code",
   "execution_count": 49,
   "id": "9db3ea79",
   "metadata": {},
   "outputs": [],
   "source": [
    "# initialization of single pendulum\n",
    "length_one = 1\n",
    "mass_one = 1\n",
    "angle_phi_one = 0.25*math.pi\n",
    "x_pos = []\n",
    "y_pos = []\n",
    "x_pos = np.array(length_one*math.sin(angle_phi_one))\n",
    "y_pos = np.array(-length_one*math.cos(angle_phi_one))\n",
    "gravity = scipy.constants.g\n",
    "T= 2*math.pi*math.sqrt(length_one/gravity)\n",
    "number_of_iterations = 1000\n",
    "deltaT = T/number_of_iterations\n",
    "x_coordinates=([0,x_pos])\n",
    "y_coordinates=([0,y_pos])\n",
    "Velocity_phi_one = 0\n",
    "t = 0\n",
    "i = 1\n"
   ]
  },
  {
   "cell_type": "code",
   "execution_count": 50,
   "id": "d78f4704",
   "metadata": {},
   "outputs": [],
   "source": [
    "#calculating the angle acceleration\n",
    "while i <= 3*number_of_iterations:\n",
    "    acceleration_phi_one = -gravity/length_one*math.sin(angle_phi_one)\n",
    "    Velocity_phi_one = acceleration_phi_one*deltaT+Velocity_phi_one\n",
    "\n",
    "    #calculating time\n",
    "    t= t + deltaT\n",
    "\n",
    "    #calculating new angle\n",
    "    angle_phi_one = angle_phi_one + Velocity_phi_one*deltaT + 1/2*acceleration_phi_one*deltaT**2\n",
    "\n",
    "    #calculate new positions\n",
    "    x_pos = np.append(x_pos, length_one*math.sin(angle_phi_one))\n",
    "    y_pos = np.append(y_pos, -length_one*math.cos(angle_phi_one))\n",
    "    i = i+1\n",
    "    #x_coordinates=([0,x_pos])\n",
    "    #y_coordinates=([0,y_pos])"
   ]
  },
  {
   "cell_type": "code",
   "execution_count": 4,
   "id": "8f222949",
   "metadata": {},
   "outputs": [
    {
     "name": "stdout",
     "output_type": "stream",
     "text": [
      "[ 7.07106781e-01  7.04139709e-01  6.99179742e-01  6.92203499e-01\n",
      "  6.83178990e-01  6.72067358e-01  6.58825068e-01  6.43406481e-01\n",
      "  6.25766776e-01  6.05865162e-01  5.83668290e-01  5.59153787e-01\n",
      "  5.32313786e-01  5.03158352e-01  4.71718647e-01  4.38049707e-01\n",
      "  4.02232696e-01  3.64376492e-01  3.24618507e-01  2.83124633e-01\n",
      "  2.40088275e-01  1.95728440e-01  1.50286915e-01  1.04024612e-01\n",
      "  5.72171863e-02  1.01500972e-02 -3.68867032e-02 -8.36042462e-02\n",
      " -1.29719962e-01 -1.74962824e-01 -2.19078022e-01 -2.61830998e-01\n",
      " -3.03010706e-01 -3.42432010e-01 -3.79937180e-01 -4.15396474e-01\n",
      " -4.48707853e-01 -4.79795904e-01 -5.08610071e-01 -5.35122306e-01\n",
      " -5.59324291e-01 -5.81224335e-01 -6.00844109e-01 -6.18215317e-01\n",
      " -6.33376421e-01 -6.46369524e-01 -6.57237476e-01 -6.66021284e-01\n",
      " -6.72757868e-01 -6.77478210e-01 -6.80205915e-01 -6.80956215e-01\n",
      " -6.79735416e-01 -6.76540806e-01 -6.71361004e-01 -6.64176765e-01\n",
      " -6.54962208e-01 -6.43686460e-01 -6.30315677e-01 -6.14815412e-01\n",
      " -5.97153272e-01 -5.77301807e-01 -5.55241551e-01 -5.30964139e-01\n",
      " -5.04475372e-01 -4.75798151e-01 -4.44975142e-01 -4.12071049e-01\n",
      " -3.77174394e-01 -3.40398679e-01 -3.01882848e-01 -2.61790980e-01\n",
      " -2.20311173e-01 -1.77653620e-01 -1.34047913e-01 -8.97396426e-02\n",
      " -4.49864129e-02 -5.34112648e-05  4.47913039e-02  8.92816104e-02\n",
      "  1.33158040e-01  1.76172223e-01  2.18090902e-01  2.58699364e-01\n",
      "  2.97804197e-01  3.35235284e-01  3.70847019e-01  4.04518732e-01\n",
      "  4.36154372e-01  4.65681502e-01  4.93049709e-01  5.18228518e-01\n",
      "  5.41204932e-01  5.61980709e-01  5.80569493e-01  5.96993896e-01\n",
      "  6.11282647e-01  6.23467865e-01  6.33582552e-01  6.41658355e-01\n",
      "  6.47723644e-01]\n",
      "[-0.70710678 -0.71006145 -0.71494593 -0.72170237 -0.73025096 -0.74049002\n",
      " -0.75229617 -0.76552472 -0.78001022 -0.79556735 -0.8119922  -0.82906396\n",
      " -0.84654712 -0.86419423 -0.88174912 -0.89895075 -0.91553747 -0.93125172\n",
      " -0.94584503 -0.95908313 -0.97075106 -0.98065813 -0.98864242 -0.99457472\n",
      " -0.99836175 -0.99994849 -0.99931945 -0.99649904 -0.99155067 -0.98457504\n",
      " -0.97570734 -0.96511374 -0.95298715 -0.93954261 -0.92501229 -0.90964046\n",
      " -0.8936785  -0.87738013 -0.86099698 -0.8447746  -0.82894894 -0.81374337\n",
      " -0.79936622 -0.78600879 -0.77384385 -0.76302453 -0.75368355 -0.74593274\n",
      " -0.73986272 -0.73554284 -0.73302109 -0.73232413 -0.7334574  -0.73640515\n",
      " -0.74113049 -0.74757556 -0.75566163 -0.76528932 -0.77633894 -0.78867104\n",
      " -0.80212715 -0.81653085 -0.83168914 -0.84739429 -0.86342608 -0.8795545\n",
      " -0.89554292 -0.91115172 -0.92614226 -0.9402812  -0.95334503 -0.96512459\n",
      " -0.97542964 -0.98409308 -0.99097485 -0.99596526 -0.9989876  -1.\n",
      " -0.99899637 -0.99600642 -0.99109482 -0.98435936 -0.97592846 -0.96595789\n",
      " -0.95462697 -0.94213444 -0.92869397 -0.91452971 -0.89987186 -0.88495239\n",
      " -0.87000114 -0.85524219 -0.84089073 -0.82715034 -0.8142107  -0.80224578\n",
      " -0.79141236 -0.78184898 -0.77367509 -0.76699058 -0.76187537]\n"
     ]
    }
   ],
   "source": [
    "print(x_pos)\n",
    "print(y_pos)"
   ]
  },
  {
   "cell_type": "code",
   "execution_count": 52,
   "id": "b2cd6529",
   "metadata": {},
   "outputs": [
    {
     "data": {
      "image/png": "[encoded data removed]",
      "text/plain": [
       "<Figure size 640x480 with 1 Axes>"
      ]
     },
     "metadata": {},
     "output_type": "display_data"
    }
   ],
   "source": [
    "# Initialize the animation plot. Make the aspect ratio equal so it looks right.\n",
    "fig = plt.figure()\n",
    "ax = fig.add_subplot(aspect='equal')\n",
    "# draw a line\n",
    "line, = ax.plot([0, x_pos[0]], [0, y_pos[0]], lw=3, c='k')\n",
    "#draw the ball for first position\n",
    "bob_radius = 0.08\n",
    "circle = ax.add_patch(plt.Circle([x_pos[0], y_pos[0]], bob_radius,\n",
    "                      fc='r', zorder=3))\n",
    "#initialise axis limits\n",
    "ax.set_xlim(-1.5, 1.5)\n",
    "ax.set_ylim(-1.5, 1.5)\n",
    "\n",
    "#make the animation\n",
    "def animate(i):\n",
    "    \"\"\"Update the animation at frame i.\"\"\"\n",
    "    line.set_data([0, x_pos[i]], [0, y_pos[i]])\n",
    "    circle.set_center((x_pos[i], y_pos[i]))\n",
    "\n",
    "nframes = 3*number_of_iterations\n",
    "interval = deltaT * 1000\n",
    "ani = animation.FuncAnimation(fig, animate, frames=nframes, repeat=True,\n",
    "                              interval=interval)\n",
    "animation.Animation.save(ani, filename = 'single pendulum.mp4')\n",
    "plt.show()"
   ]
  },
  {
   "cell_type": "code",
   "execution_count": null,
   "id": "117f4de9",
   "metadata": {},
   "outputs": [],
   "source": []
  }
 ],
 "metadata": {
  "kernelspec": {
   "display_name": "Python 3 (ipykernel)",
   "language": "python",
   "name": "python3"
  },
  "language_info": {
   "codemirror_mode": {
    "name": "ipython",
    "version": 3
   },
   "file_extension": ".py",
   "mimetype": "text/x-python",
   "name": "python",
   "nbconvert_exporter": "python",
   "pygments_lexer": "ipython3",
   "version": "3.9.18"
  }
 },
 "nbformat": 4,
 "nbformat_minor": 5
}
